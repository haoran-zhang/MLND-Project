{
 "cells": [
  {
   "cell_type": "code",
   "execution_count": 1,
   "metadata": {
    "collapsed": false
   },
   "outputs": [
    {
     "name": "stdout",
     "output_type": "stream",
     "text": [
      "('Validation set: ', (4617, 1024), (4617, 5, 11))\n",
      "('Test set: ', (13068, 1024), (13068, 5, 11))\n",
      "('Train set: ', (28785, 1024), (28785, 5, 11))\n"
     ]
    }
   ],
   "source": [
    "# -*- coding: utf-8 -*-\n",
    "import os\n",
    "import tensorflow as tf\n",
    "import numpy as np\n",
    "import pickle\n",
    "import random\n",
    "from PIL import Image\n",
    "\n",
    "# First, load data and check\n",
    "va_data = pickle.load(open('./va_data.p', 'rb'))\n",
    "va_x = va_data['images']\n",
    "va_y = va_data['labels']\n",
    "del va_data\n",
    "print(\"Validation set: \", va_x.shape, va_y.shape)\n",
    "\n",
    "test_data = pickle.load(open('./test_data.p', 'rb'))\n",
    "test_x = test_data['images']\n",
    "test_y = test_data['labels']\n",
    "del test_data\n",
    "print(\"Test set: \", test_x.shape, test_y.shape)\n",
    "\n",
    "train_data = pickle.load(open('./train_data.p', 'rb'))\n",
    "train_x = train_data['images']\n",
    "train_y = train_data['labels']\n",
    "del train_data\n",
    "print(\"Train set: \", train_x.shape, train_y.shape)\n"
   ]
  },
  {
   "cell_type": "code",
   "execution_count": null,
   "metadata": {
    "collapsed": true
   },
   "outputs": [],
   "source": []
  }
 ],
 "metadata": {
  "anaconda-cloud": {},
  "kernelspec": {
   "display_name": "Tensorflow",
   "language": "python",
   "name": "tensorflow"
  },
  "language_info": {
   "codemirror_mode": {
    "name": "ipython",
    "version": 2
   },
   "file_extension": ".py",
   "mimetype": "text/x-python",
   "name": "python",
   "nbconvert_exporter": "python",
   "pygments_lexer": "ipython2",
   "version": "2.7.12"
  }
 },
 "nbformat": 4,
 "nbformat_minor": 0
}
